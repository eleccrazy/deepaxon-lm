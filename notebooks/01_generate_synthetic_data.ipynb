{
 "cells": [
  {
   "cell_type": "code",
   "execution_count": null,
   "metadata": {},
   "outputs": [],
   "source": [
    "# import neccessary libraries\n",
    "import os\n",
    "import numpy as np\n",
    "import cv2\n",
    "import matplotlib.pyplot as plt\n",
    "from tqdm import tqdm\n",
    "from random import choice"
   ]
  },
  {
   "cell_type": "code",
   "execution_count": null,
   "metadata": {},
   "outputs": [],
   "source": [
    "# Output paths\n",
    "image_dir = \"../data/synthetic/images\"\n",
    "mask_dir = \"../data/synthetic/masks\"\n",
    "\n",
    "os.makedirs(image_dir, exist_ok=True)\n",
    "os.makedirs(mask_dir, exist_ok=True)"
   ]
  },
  {
   "cell_type": "code",
   "execution_count": null,
   "metadata": {},
   "outputs": [],
   "source": [
    "# Function to draw random axons (circles) on an image\n",
    "def generate_synthetic_rgb_image(image_size=512, num_blobs=15, radius_range=(10, 30)):\n",
    "    image = np.zeros((image_size, image_size, 3), dtype=np.uint8)\n",
    "    mask = np.zeros((image_size, image_size), dtype=np.uint8)\n",
    "\n",
    "    # Lightly stained background\n",
    "    base_color = np.random.randint(200, 255)\n",
    "    noise = np.random.randint(-10, 10, (image_size, image_size, 3))\n",
    "    image[:, :, :] = base_color\n",
    "    image = np.clip(image + noise, 0, 255)\n",
    "\n",
    "    for _ in range(num_blobs):\n",
    "        r = np.random.randint(*radius_range)\n",
    "        x = np.random.randint(r, image_size - r)\n",
    "        y = np.random.randint(r, image_size - r)\n",
    "\n",
    "        # Random axon color (bluish, purplish shades)\n",
    "        color = (\n",
    "            np.random.randint(80, 120),  # B\n",
    "            np.random.randint(60, 100),  # G\n",
    "            np.random.randint(100, 160)  # R\n",
    "        )\n",
    "\n",
    "        cv2.circle(image, (x, y), r, color, -1)\n",
    "        cv2.circle(mask, (x, y), r, 255, -1)  # Binary mask\n",
    "\n",
    "    return image, mask\n"
   ]
  },
  {
   "cell_type": "code",
   "execution_count": null,
   "metadata": {},
   "outputs": [],
   "source": [
    "# Preview a sample synthetic image\n",
    "img, msk = generate_synthetic_rgb_image()\n",
    "\n",
    "fig, axes = plt.subplots(1, 2, figsize=(10, 5))\n",
    "axes[0].imshow(cv2.cvtColor(img, cv2.COLOR_BGR2RGB))\n",
    "axes[0].set_title(\"RGB Synthetic Image\")\n",
    "axes[1].imshow(msk, cmap='gray')\n",
    "axes[1].set_title(\"Binary Mask\")\n",
    "plt.show()"
   ]
  },
  {
   "cell_type": "code",
   "execution_count": null,
   "metadata": {},
   "outputs": [],
   "source": [
    "# Generate and save dataset\n",
    "num_samples = 100  # feel free to increase later\n",
    "\n",
    "for i in tqdm(range(num_samples)):\n",
    "    img, msk = generate_synthetic_image()\n",
    "    \n",
    "    cv2.imwrite(os.path.join(image_dir, f\"img_{i:03}.png\"), img)\n",
    "    cv2.imwrite(os.path.join(mask_dir, f\"mask_{i:03}.png\"), msk)\n"
   ]
  },
  {
   "cell_type": "code",
   "execution_count": null,
   "metadata": {},
   "outputs": [],
   "source": [
    "# Confirm save\n",
    "sample_file = choice(os.listdir(image_dir)).replace(\"img\", \"mask\")\n",
    "img = cv2.imread(os.path.join(image_dir, sample_file.replace(\"mask\", \"img\")), 0)\n",
    "msk = cv2.imread(os.path.join(mask_dir, sample_file), 0)\n",
    "\n",
    "plt.figure(figsize=(10, 5))\n",
    "plt.subplot(1, 2, 1)\n",
    "plt.imshow(img, cmap='gray')\n",
    "plt.title(\"Saved Image\")\n",
    "plt.subplot(1, 2, 2)\n",
    "plt.imshow(msk, cmap='gray')\n",
    "plt.title(\"Saved Mask\")\n",
    "plt.show()"
   ]
  }
 ],
 "metadata": {
  "kernelspec": {
   "display_name": "axon-env",
   "language": "python",
   "name": "python3"
  },
  "language_info": {
   "codemirror_mode": {
    "name": "ipython",
    "version": 3
   },
   "file_extension": ".py",
   "mimetype": "text/x-python",
   "name": "python",
   "nbconvert_exporter": "python",
   "pygments_lexer": "ipython3",
   "version": "3.12.2"
  }
 },
 "nbformat": 4,
 "nbformat_minor": 2
}
